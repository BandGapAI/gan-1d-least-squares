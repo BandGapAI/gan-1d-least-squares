{
 "cells": [
  {
   "cell_type": "markdown",
   "metadata": {},
   "source": [
    "# Convergence and Optimality Analysis of Low-Dimensional Generative Adversarial Networks using Error Function Integrals"
   ]
  },
  {
   "attachments": {},
   "cell_type": "markdown",
   "metadata": {},
   "source": [
    "## Requirements\n",
    "\n",
    "Use `requirements.txt` file preferably in virtual environment.\n",
    "\n",
    "In order to do that in the current folder, for Ubuntu:\n",
    "```\n",
    "$ sudo apt install virtualenv\n",
    "$ virtualenv venv\n",
    "$ source venv/bin/activate\n",
    "(venv)$ pip install -r requirements.txt\n",
    "(venv)$ python -m ipykernel install --user --name=venv\n",
    "```\n",
    "\n",
    "Launch from command prompt: \n",
    "```bash\n",
    "(venv)$ jupyter notebook\n",
    "```\n",
    "\n",
    "or open it within VSCode with [Jupyter extension](https://marketplace.visualstudio.com/items?itemName=ms-toolsai.jupyter) or any other favorite method. Please make sure that the Jupyter kernel points to your environment (select it from the kernel menu)."
   ]
  },
  {
   "cell_type": "markdown",
   "metadata": {},
   "source": [
    "## Imports"
   ]
  },
  {
   "cell_type": "code",
   "execution_count": 20,
   "metadata": {
    "id": "P9aKuHud5O06",
    "scrolled": true
   },
   "outputs": [],
   "source": [
    "%matplotlib inline\n",
    "import matplotlib.pyplot as plt\n",
    "import numpy as np\n",
    "import sys\n",
    "\n",
    "from scipy.io import savemat \n",
    "from tqdm import tqdm"
   ]
  },
  {
   "cell_type": "code",
   "execution_count": 21,
   "metadata": {},
   "outputs": [
    {
     "name": "stdout",
     "output_type": "stream",
     "text": [
      "The autoreload extension is already loaded. To reload it, use:\n",
      "  %reload_ext autoreload\n"
     ]
    }
   ],
   "source": [
    "%load_ext autoreload\n",
    "%autoreload 2"
   ]
  },
  {
   "cell_type": "code",
   "execution_count": 22,
   "metadata": {},
   "outputs": [],
   "source": [
    "sys.path.append('src')"
   ]
  },
  {
   "cell_type": "code",
   "execution_count": 23,
   "metadata": {
    "scrolled": true
   },
   "outputs": [],
   "source": [
    "from utils import load_analytical\n",
    "from sgd import SGD_gh\n",
    "from gan import sample_xz"
   ]
  },
  {
   "cell_type": "markdown",
   "metadata": {
    "id": "TL1NxoUP7EMl"
   },
   "source": [
    "## Common notes\n",
    "Objective function (from Goodfellow's paper):\n",
    "$$\n",
    "V[G,D] = \\mathbb{E}_x \\log D(x) + \\mathbb{E}_z \\log(1 - D(G(z))\n",
    "$$\n",
    "\n",
    "The goal is to optimize\n",
    "$$\n",
    "\\min_G \\max_D V[G, D]\n",
    "$$"
   ]
  },
  {
   "cell_type": "markdown",
   "metadata": {
    "id": "E8Sl3Lbizs96"
   },
   "source": [
    "The assumption of Goodfellow's paper is that we can find an algorithm which finds globally optimal $D^*, G^*$. Let's see if we can optimize for some simple case, introducing some new levels of complexity if we need them. If the approach of Gf is formulated for a very common case, it should work for a basic one."
   ]
  },
  {
   "cell_type": "markdown",
   "metadata": {
    "id": "Fvs0TzQ1t0-x"
   },
   "source": [
    "A least squares GAN cost function is:\n",
    "$$\n",
    "V[G, D] = E_x D^2(x) + E_z [1 - D(G(z))]^2\n",
    "$$"
   ]
  },
  {
   "cell_type": "markdown",
   "metadata": {
    "id": "rXi7_Ye0GLru"
   },
   "source": [
    "# Analysis of some case of `x` and `z` distribution\n"
   ]
  },
  {
   "cell_type": "markdown",
   "metadata": {
    "id": "g78pfYtCUcJw"
   },
   "source": [
    "Here we assume\n",
    "$$\n",
    "x \\sim \\text{Exp}(c) \\\\\n",
    "z \\sim \\text{Rayleigh}(1) \\\\\n",
    "D(x) = {1 + \\Phi(ax + b) \\over 2} \\\\\n",
    "G(z) = g z^2 + h\n",
    "$$"
   ]
  },
  {
   "cell_type": "markdown",
   "metadata": {
    "id": "JZmzWCPmxAI0"
   },
   "source": [
    "Where\n",
    "$$\n",
    "\\text{Exp}(c) = c e^{-c x} \\\\\n",
    "\\text{Rayleigh}(1) = 2x \\exp(-x^2)\n",
    "$$"
   ]
  },
  {
   "cell_type": "markdown",
   "metadata": {
    "id": "hFDyyUqPV8ht"
   },
   "source": [
    "Augmented cost function\n",
    "$$\n",
    "V[D,G] = \\mathbb{E}_x D^2(x) + \\mathbb{E}_z [1 - D(G(z))]^2 = J_1[D] + J_2[D,G]\n",
    "$$"
   ]
  },
  {
   "cell_type": "markdown",
   "metadata": {
    "id": "uPi2dg_6vRkG"
   },
   "source": [
    "Therefore\n",
    "$$\n",
    "J_1[D] = \\frac{1}{4}\\int_0^{\\infty} (1+\\Phi(ax + b))^2 \\text{Exp}(x|c) dx \\\\\n",
    "J_2[D, G] = \\\\\n",
    "\\frac{1}{4g}\\int_0^{\\infty} [1 - \\Phi(a\\zeta + \\eta)]^2 \\text{Exp}(\\zeta|1/g) dz\n",
    "$$\n",
    "where $\\eta=ah+b$ and $\\zeta=gz^2$"
   ]
  },
  {
   "cell_type": "markdown",
   "metadata": {
    "id": "7_EqhT_87ixy"
   },
   "source": [
    "\n",
    "## Cost function computed using sampling\n",
    "Easiest way (the one, which Goodfellow also follows):\n",
    "$$\n",
    "V[G,D] = {1 \\over m} \\sum_{i = 1}^m\n",
    "D^2(x_i) + [1 - D(G(z_i))]^2\n",
    "$$"
   ]
  },
  {
   "cell_type": "markdown",
   "metadata": {
    "id": "vmBZpQ3NNM0I"
   },
   "source": [
    "## SGD implementation\n",
    "Here we implement vanilla SGD for the example above."
   ]
  },
  {
   "attachments": {},
   "cell_type": "markdown",
   "metadata": {
    "id": "x5XjCt0xiYqb"
   },
   "source": [
    "${\\partial J \\over \\partial g}$, ${\\partial J \\over \\partial h}$ are defined in `sgd.py` module."
   ]
  },
  {
   "cell_type": "markdown",
   "metadata": {
    "id": "HnJXHfllixKr"
   },
   "source": [
    "Single SGD step:\n",
    "$$\n",
    "g \\leftarrow g + \\epsilon_g {\\partial J \\over \\partial g} \\\\\n",
    "h \\leftarrow h - \\epsilon_h {\\partial J \\over \\partial h}\n",
    "$$"
   ]
  },
  {
   "cell_type": "markdown",
   "metadata": {
    "id": "CR6zisKvjPQJ"
   },
   "source": [
    "SGD procedure:"
   ]
  },
  {
   "cell_type": "code",
   "execution_count": 24,
   "metadata": {
    "id": "dO5MM9TabSB2",
    "scrolled": true
   },
   "outputs": [],
   "source": [
    "def run_SGD(config_gan, config_sgd, x, z):\n",
    "  a, b, c, _, _ = [v[1] for v in config_sgd.items()]\n",
    "  g_initial, h_initial, eps_b, eps_h, n_steps = [v[1] for v in config_gan.items()]\n",
    "  gd = SGD_gh(x, z, a, b, c, g_initial, h_initial, eps_b, eps_h, n_steps)\n",
    "  path = [val for val in gd]\n",
    "  g_path = [val[0] for val in path]\n",
    "  h_path = [val[1] for val in path]\n",
    "  return g_path, h_path"
   ]
  },
  {
   "cell_type": "code",
   "execution_count": 40,
   "metadata": {
    "id": "CPkwwFyytuqM",
    "scrolled": true
   },
   "outputs": [],
   "source": [
    "def run_SGD_batch(config_gan, config_sgd, n_runs=100, n_samples=10000):\n",
    "  g_paths = []\n",
    "  h_paths = []\n",
    "  for _ in tqdm(range(n_runs)):\n",
    "    x, z = sample_xz(config_gan, n_samples=n_samples)\n",
    "    g_hat, h_hat = run_SGD(config_sgd, config_gan, x, z)\n",
    "    g_paths += [g_hat]\n",
    "    h_paths += [h_hat]\n",
    "  return g_paths, h_paths"
   ]
  },
  {
   "cell_type": "markdown",
   "metadata": {
    "id": "Se4sDirXpBct"
   },
   "source": [
    "### Test case implementation\n",
    "Configuration:"
   ]
  },
  {
   "cell_type": "code",
   "execution_count": 26,
   "metadata": {
    "id": "XebkLw-Km_qC",
    "scrolled": true
   },
   "outputs": [],
   "source": [
    "config_gan = {\n",
    "    \"a\": 2.2,\n",
    "    \"b\": 1.0,\n",
    "    \"c\": 2.1,\n",
    "    \"g\": None,\n",
    "    \"h\": None,\n",
    "}\n",
    "config_sgd = {\n",
    "    \"g_initial\": 0.9,\n",
    "    \"h_initial\": -1.5,\n",
    "    \"eps_g\": 0.4,\n",
    "    \"eps_h\": 0.4,\n",
    "    \"n_steps\": 50\n",
    "}"
   ]
  },
  {
   "cell_type": "markdown",
   "metadata": {
    "id": "U5j2At2gWYfW"
   },
   "source": [
    "MC SGD experiment:"
   ]
  },
  {
   "cell_type": "code",
   "execution_count": 27,
   "metadata": {
    "colab": {
     "base_uri": "https://localhost:8080/",
     "height": 81,
     "referenced_widgets": [
      "90f05b4fcfe44367a283df12c469f4b0",
      "36cc8e6b637d4e4086f7c2be3114bd29",
      "05a133bdf4d54925acaa44b151c61ed3",
      "a012255f0a26420cb684175fe51374c9",
      "dd5712146ecf438e99558cf1d1684d6f",
      "4bd5d118b1ee42f3878764d21b500a4a",
      "20655809ee5d4d5587aa3bcae8d0076d",
      "32b42ac7880e4721b0c3859805b28e50",
      "adaf6e61f72244fd83612a16c1553a3e",
      "1c618cf64ea64f2c98569b8c5f91e024"
     ]
    },
    "id": "eP9sr_rZpofR",
    "outputId": "51f19215-6070-4610-d6b6-40d1a9f80c6a",
    "scrolled": false
   },
   "outputs": [
    {
     "name": "stderr",
     "output_type": "stream",
     "text": [
      " 26%|██▌       | 13/50 [00:07<00:21,  1.72it/s]/home/kir/BandGangAI/gan-1d-least-squares/src/gan.py:5: RuntimeWarning: overflow encountered in exp\n",
      "  return np.vectorize(lambda x: 1.0/(1.0 + 1.0/g/c * np.exp(-(c - 1.0/g)*x - h/g)))(x)\n",
      "100%|██████████| 50/50 [00:28<00:00,  1.73it/s]\n"
     ]
    }
   ],
   "source": [
    "g_paths, h_paths = run_SGD_batch(config_gan=config_gan, config_sgd=config_sgd, n_runs=50)\n",
    "# savemat('content/test_case_gh.mat', {'g_paths': g_paths, 'h_paths': h_paths})\n"
   ]
  },
  {
   "cell_type": "code",
   "execution_count": 39,
   "metadata": {},
   "outputs": [
    {
     "data": {
      "text/plain": [
       "[<matplotlib.lines.Line2D at 0x7f13e15ee710>]"
      ]
     },
     "execution_count": 39,
     "metadata": {},
     "output_type": "execute_result"
    },
    {
     "data": {
      "image/png": "[encoded data removed]",
      "text/plain": [
       "<Figure size 640x480 with 1 Axes>"
      ]
     },
     "metadata": {},
     "output_type": "display_data"
    }
   ],
   "source": [
    "plt.plot(h_paths[0])"
   ]
  }
 ],
 "metadata": {
  "@webio": {
   "lastCommId": null,
   "lastKernelId": null
  },
  "colab": {
   "collapsed_sections": [
    "7cywZRIXrpFL"
   ],
   "name": "GAN_AnalyticalResearch.ipynb",
   "provenance": []
  },
  "kernelspec": {
   "display_name": "venv",
   "language": "python",
   "name": "python3"
  },
  "language_info": {
   "codemirror_mode": {
    "name": "ipython",
    "version": 3
   },
   "file_extension": ".py",
   "mimetype": "text/x-python",
   "name": "python",
   "nbconvert_exporter": "python",
   "pygments_lexer": "ipython3",
   "version": "3.10.12"
  },
  "vscode": {
   "interpreter": {
    "hash": "f2beec2fd23ea655c67225907023e498397b8a2783c77114a992fd7fdc84cfe9"
   }
  },
  "widgets": {
   "application/vnd.jupyter.widget-state+json": {
    "05a133bdf4d54925acaa44b151c61ed3": {
     "model_module": "@jupyter-widgets/controls",
     "model_module_version": "1.5.0",
     "model_name": "IntSliderModel",
     "state": {
      "_dom_classes": [],
      "_model_module": "@jupyter-widgets/controls",
      "_model_module_version": "1.5.0",
      "_model_name": "IntSliderModel",
      "_view_count": null,
      "_view_module": "@jupyter-widgets/controls",
      "_view_module_version": "1.5.0",
      "_view_name": "IntSliderView",
      "continuous_update": true,
      "description": "n_runs",
      "description_tooltip": null,
      "disabled": false,
      "layout": "IPY_MODEL_20655809ee5d4d5587aa3bcae8d0076d",
      "max": 100,
      "min": 1,
      "orientation": "horizontal",
      "readout": true,
      "readout_format": "d",
      "step": 1,
      "style": "IPY_MODEL_4bd5d118b1ee42f3878764d21b500a4a",
      "value": 3
     }
    },
    "19cce7ae7ace4c28bdb027d2b5ee855c": {
     "model_module": "@jupyter-widgets/controls",
     "model_module_version": "1.5.0",
     "model_name": "IntSliderModel",
     "state": {
      "_dom_classes": [],
      "_model_module": "@jupyter-widgets/controls",
      "_model_module_version": "1.5.0",
      "_model_name": "IntSliderModel",
      "_view_count": null,
      "_view_module": "@jupyter-widgets/controls",
      "_view_module_version": "1.5.0",
      "_view_name": "IntSliderView",
      "continuous_update": true,
      "description": "n_runs",
      "description_tooltip": null,
      "disabled": false,
      "layout": "IPY_MODEL_abf39a35f3fa46a78fae8dac278f1f3c",
      "max": 100,
      "min": 1,
      "orientation": "horizontal",
      "readout": true,
      "readout_format": "d",
      "step": 1,
      "style": "IPY_MODEL_a149498bee0f4daf91403ba81f1eda01",
      "value": 3
     }
    },
    "1c618cf64ea64f2c98569b8c5f91e024": {
     "model_module": "@jupyter-widgets/base",
     "model_module_version": "1.2.0",
     "model_name": "LayoutModel",
     "state": {
      "_model_module": "@jupyter-widgets/base",
      "_model_module_version": "1.2.0",
      "_model_name": "LayoutModel",
      "_view_count": null,
      "_view_module": "@jupyter-widgets/base",
      "_view_module_version": "1.2.0",
      "_view_name": "LayoutView",
      "align_content": null,
      "align_items": null,
      "align_self": null,
      "border": null,
      "bottom": null,
      "display": null,
      "flex": null,
      "flex_flow": null,
      "grid_area": null,
      "grid_auto_columns": null,
      "grid_auto_flow": null,
      "grid_auto_rows": null,
      "grid_column": null,
      "grid_gap": null,
      "grid_row": null,
      "grid_template_areas": null,
      "grid_template_columns": null,
      "grid_template_rows": null,
      "height": null,
      "justify_content": null,
      "justify_items": null,
      "left": null,
      "margin": null,
      "max_height": null,
      "max_width": null,
      "min_height": null,
      "min_width": null,
      "object_fit": null,
      "object_position": null,
      "order": null,
      "overflow": null,
      "overflow_x": null,
      "overflow_y": null,
      "padding": null,
      "right": null,
      "top": null,
      "visibility": null,
      "width": null
     }
    },
    "20655809ee5d4d5587aa3bcae8d0076d": {
     "model_module": "@jupyter-widgets/base",
     "model_module_version": "1.2.0",
     "model_name": "LayoutModel",
     "state": {
      "_model_module": "@jupyter-widgets/base",
      "_model_module_version": "1.2.0",
      "_model_name": "LayoutModel",
      "_view_count": null,
      "_view_module": "@jupyter-widgets/base",
      "_view_module_version": "1.2.0",
      "_view_name": "LayoutView",
      "align_content": null,
      "align_items": null,
      "align_self": null,
      "border": null,
      "bottom": null,
      "display": null,
      "flex": null,
      "flex_flow": null,
      "grid_area": null,
      "grid_auto_columns": null,
      "grid_auto_flow": null,
      "grid_auto_rows": null,
      "grid_column": null,
      "grid_gap": null,
      "grid_row": null,
      "grid_template_areas": null,
      "grid_template_columns": null,
      "grid_template_rows": null,
      "height": null,
      "justify_content": null,
      "justify_items": null,
      "left": null,
      "margin": null,
      "max_height": null,
      "max_width": null,
      "min_height": null,
      "min_width": null,
      "object_fit": null,
      "object_position": null,
      "order": null,
      "overflow": null,
      "overflow_x": null,
      "overflow_y": null,
      "padding": null,
      "right": null,
      "top": null,
      "visibility": null,
      "width": null
     }
    },
    "2e19733062c849d2adec150ca98d92e8": {
     "model_module": "@jupyter-widgets/base",
     "model_module_version": "1.2.0",
     "model_name": "LayoutModel",
     "state": {
      "_model_module": "@jupyter-widgets/base",
      "_model_module_version": "1.2.0",
      "_model_name": "LayoutModel",
      "_view_count": null,
      "_view_module": "@jupyter-widgets/base",
      "_view_module_version": "1.2.0",
      "_view_name": "LayoutView",
      "align_content": null,
      "align_items": null,
      "align_self": null,
      "border": null,
      "bottom": null,
      "display": null,
      "flex": null,
      "flex_flow": null,
      "grid_area": null,
      "grid_auto_columns": null,
      "grid_auto_flow": null,
      "grid_auto_rows": null,
      "grid_column": null,
      "grid_gap": null,
      "grid_row": null,
      "grid_template_areas": null,
      "grid_template_columns": null,
      "grid_template_rows": null,
      "height": null,
      "justify_content": null,
      "justify_items": null,
      "left": null,
      "margin": null,
      "max_height": null,
      "max_width": null,
      "min_height": null,
      "min_width": null,
      "object_fit": null,
      "object_position": null,
      "order": null,
      "overflow": null,
      "overflow_x": null,
      "overflow_y": null,
      "padding": null,
      "right": null,
      "top": null,
      "visibility": null,
      "width": null
     }
    },
    "32b42ac7880e4721b0c3859805b28e50": {
     "model_module": "@jupyter-widgets/controls",
     "model_module_version": "1.5.0",
     "model_name": "ButtonStyleModel",
     "state": {
      "_model_module": "@jupyter-widgets/controls",
      "_model_module_version": "1.5.0",
      "_model_name": "ButtonStyleModel",
      "_view_count": null,
      "_view_module": "@jupyter-widgets/base",
      "_view_module_version": "1.2.0",
      "_view_name": "StyleView",
      "button_color": null,
      "font_weight": ""
     }
    },
    "36cc8e6b637d4e4086f7c2be3114bd29": {
     "model_module": "@jupyter-widgets/base",
     "model_module_version": "1.2.0",
     "model_name": "LayoutModel",
     "state": {
      "_model_module": "@jupyter-widgets/base",
      "_model_module_version": "1.2.0",
      "_model_name": "LayoutModel",
      "_view_count": null,
      "_view_module": "@jupyter-widgets/base",
      "_view_module_version": "1.2.0",
      "_view_name": "LayoutView",
      "align_content": null,
      "align_items": null,
      "align_self": null,
      "border": null,
      "bottom": null,
      "display": null,
      "flex": null,
      "flex_flow": null,
      "grid_area": null,
      "grid_auto_columns": null,
      "grid_auto_flow": null,
      "grid_auto_rows": null,
      "grid_column": null,
      "grid_gap": null,
      "grid_row": null,
      "grid_template_areas": null,
      "grid_template_columns": null,
      "grid_template_rows": null,
      "height": null,
      "justify_content": null,
      "justify_items": null,
      "left": null,
      "margin": null,
      "max_height": null,
      "max_width": null,
      "min_height": null,
      "min_width": null,
      "object_fit": null,
      "object_position": null,
      "order": null,
      "overflow": null,
      "overflow_x": null,
      "overflow_y": null,
      "padding": null,
      "right": null,
      "top": null,
      "visibility": null,
      "width": null
     }
    },
    "4bd5d118b1ee42f3878764d21b500a4a": {
     "model_module": "@jupyter-widgets/controls",
     "model_module_version": "1.5.0",
     "model_name": "SliderStyleModel",
     "state": {
      "_model_module": "@jupyter-widgets/controls",
      "_model_module_version": "1.5.0",
      "_model_name": "SliderStyleModel",
      "_view_count": null,
      "_view_module": "@jupyter-widgets/base",
      "_view_module_version": "1.2.0",
      "_view_name": "StyleView",
      "description_width": "",
      "handle_color": null
     }
    },
    "5fedd040855845929b1a87dfe0da7dcb": {
     "model_module": "@jupyter-widgets/output",
     "model_module_version": "1.0.0",
     "model_name": "OutputModel",
     "state": {
      "_dom_classes": [],
      "_model_module": "@jupyter-widgets/output",
      "_model_module_version": "1.0.0",
      "_model_name": "OutputModel",
      "_view_count": null,
      "_view_module": "@jupyter-widgets/output",
      "_view_module_version": "1.0.0",
      "_view_name": "OutputView",
      "layout": "IPY_MODEL_2e19733062c849d2adec150ca98d92e8",
      "msg_id": "",
      "outputs": []
     }
    },
    "7bf1bb32c48a4b228b6a73ba1b0618b1": {
     "model_module": "@jupyter-widgets/controls",
     "model_module_version": "1.5.0",
     "model_name": "ButtonModel",
     "state": {
      "_dom_classes": [],
      "_model_module": "@jupyter-widgets/controls",
      "_model_module_version": "1.5.0",
      "_model_name": "ButtonModel",
      "_view_count": null,
      "_view_module": "@jupyter-widgets/controls",
      "_view_module_version": "1.5.0",
      "_view_name": "ButtonView",
      "button_style": "",
      "description": "Run Interact",
      "disabled": false,
      "icon": "",
      "layout": "IPY_MODEL_c5d3ac1c103440e6863ccefbcfdb9abf",
      "style": "IPY_MODEL_9e4e374a2ea24030a1f8e38f70eb580f",
      "tooltip": ""
     }
    },
    "85ec60b47b8644fdb27e3de1b596972f": {
     "model_module": "@jupyter-widgets/controls",
     "model_module_version": "1.5.0",
     "model_name": "VBoxModel",
     "state": {
      "_dom_classes": [
       "widget-interact"
      ],
      "_model_module": "@jupyter-widgets/controls",
      "_model_module_version": "1.5.0",
      "_model_name": "VBoxModel",
      "_view_count": null,
      "_view_module": "@jupyter-widgets/controls",
      "_view_module_version": "1.5.0",
      "_view_name": "VBoxView",
      "box_style": "",
      "children": [
       "IPY_MODEL_19cce7ae7ace4c28bdb027d2b5ee855c",
       "IPY_MODEL_7bf1bb32c48a4b228b6a73ba1b0618b1",
       "IPY_MODEL_5fedd040855845929b1a87dfe0da7dcb"
      ],
      "layout": "IPY_MODEL_880d9f410ce44546b7767a6e056a524e"
     }
    },
    "880d9f410ce44546b7767a6e056a524e": {
     "model_module": "@jupyter-widgets/base",
     "model_module_version": "1.2.0",
     "model_name": "LayoutModel",
     "state": {
      "_model_module": "@jupyter-widgets/base",
      "_model_module_version": "1.2.0",
      "_model_name": "LayoutModel",
      "_view_count": null,
      "_view_module": "@jupyter-widgets/base",
      "_view_module_version": "1.2.0",
      "_view_name": "LayoutView",
      "align_content": null,
      "align_items": null,
      "align_self": null,
      "border": null,
      "bottom": null,
      "display": null,
      "flex": null,
      "flex_flow": null,
      "grid_area": null,
      "grid_auto_columns": null,
      "grid_auto_flow": null,
      "grid_auto_rows": null,
      "grid_column": null,
      "grid_gap": null,
      "grid_row": null,
      "grid_template_areas": null,
      "grid_template_columns": null,
      "grid_template_rows": null,
      "height": null,
      "justify_content": null,
      "justify_items": null,
      "left": null,
      "margin": null,
      "max_height": null,
      "max_width": null,
      "min_height": null,
      "min_width": null,
      "object_fit": null,
      "object_position": null,
      "order": null,
      "overflow": null,
      "overflow_x": null,
      "overflow_y": null,
      "padding": null,
      "right": null,
      "top": null,
      "visibility": null,
      "width": null
     }
    },
    "90f05b4fcfe44367a283df12c469f4b0": {
     "model_module": "@jupyter-widgets/controls",
     "model_module_version": "1.5.0",
     "model_name": "VBoxModel",
     "state": {
      "_dom_classes": [
       "widget-interact"
      ],
      "_model_module": "@jupyter-widgets/controls",
      "_model_module_version": "1.5.0",
      "_model_name": "VBoxModel",
      "_view_count": null,
      "_view_module": "@jupyter-widgets/controls",
      "_view_module_version": "1.5.0",
      "_view_name": "VBoxView",
      "box_style": "",
      "children": [
       "IPY_MODEL_05a133bdf4d54925acaa44b151c61ed3",
       "IPY_MODEL_a012255f0a26420cb684175fe51374c9",
       "IPY_MODEL_dd5712146ecf438e99558cf1d1684d6f"
      ],
      "layout": "IPY_MODEL_36cc8e6b637d4e4086f7c2be3114bd29"
     }
    },
    "9e4e374a2ea24030a1f8e38f70eb580f": {
     "model_module": "@jupyter-widgets/controls",
     "model_module_version": "1.5.0",
     "model_name": "ButtonStyleModel",
     "state": {
      "_model_module": "@jupyter-widgets/controls",
      "_model_module_version": "1.5.0",
      "_model_name": "ButtonStyleModel",
      "_view_count": null,
      "_view_module": "@jupyter-widgets/base",
      "_view_module_version": "1.2.0",
      "_view_name": "StyleView",
      "button_color": null,
      "font_weight": ""
     }
    },
    "a012255f0a26420cb684175fe51374c9": {
     "model_module": "@jupyter-widgets/controls",
     "model_module_version": "1.5.0",
     "model_name": "ButtonModel",
     "state": {
      "_dom_classes": [],
      "_model_module": "@jupyter-widgets/controls",
      "_model_module_version": "1.5.0",
      "_model_name": "ButtonModel",
      "_view_count": null,
      "_view_module": "@jupyter-widgets/controls",
      "_view_module_version": "1.5.0",
      "_view_name": "ButtonView",
      "button_style": "",
      "description": "Run Interact",
      "disabled": false,
      "icon": "",
      "layout": "IPY_MODEL_adaf6e61f72244fd83612a16c1553a3e",
      "style": "IPY_MODEL_32b42ac7880e4721b0c3859805b28e50",
      "tooltip": ""
     }
    },
    "a149498bee0f4daf91403ba81f1eda01": {
     "model_module": "@jupyter-widgets/controls",
     "model_module_version": "1.5.0",
     "model_name": "SliderStyleModel",
     "state": {
      "_model_module": "@jupyter-widgets/controls",
      "_model_module_version": "1.5.0",
      "_model_name": "SliderStyleModel",
      "_view_count": null,
      "_view_module": "@jupyter-widgets/base",
      "_view_module_version": "1.2.0",
      "_view_name": "StyleView",
      "description_width": "",
      "handle_color": null
     }
    },
    "abf39a35f3fa46a78fae8dac278f1f3c": {
     "model_module": "@jupyter-widgets/base",
     "model_module_version": "1.2.0",
     "model_name": "LayoutModel",
     "state": {
      "_model_module": "@jupyter-widgets/base",
      "_model_module_version": "1.2.0",
      "_model_name": "LayoutModel",
      "_view_count": null,
      "_view_module": "@jupyter-widgets/base",
      "_view_module_version": "1.2.0",
      "_view_name": "LayoutView",
      "align_content": null,
      "align_items": null,
      "align_self": null,
      "border": null,
      "bottom": null,
      "display": null,
      "flex": null,
      "flex_flow": null,
      "grid_area": null,
      "grid_auto_columns": null,
      "grid_auto_flow": null,
      "grid_auto_rows": null,
      "grid_column": null,
      "grid_gap": null,
      "grid_row": null,
      "grid_template_areas": null,
      "grid_template_columns": null,
      "grid_template_rows": null,
      "height": null,
      "justify_content": null,
      "justify_items": null,
      "left": null,
      "margin": null,
      "max_height": null,
      "max_width": null,
      "min_height": null,
      "min_width": null,
      "object_fit": null,
      "object_position": null,
      "order": null,
      "overflow": null,
      "overflow_x": null,
      "overflow_y": null,
      "padding": null,
      "right": null,
      "top": null,
      "visibility": null,
      "width": null
     }
    },
    "adaf6e61f72244fd83612a16c1553a3e": {
     "model_module": "@jupyter-widgets/base",
     "model_module_version": "1.2.0",
     "model_name": "LayoutModel",
     "state": {
      "_model_module": "@jupyter-widgets/base",
      "_model_module_version": "1.2.0",
      "_model_name": "LayoutModel",
      "_view_count": null,
      "_view_module": "@jupyter-widgets/base",
      "_view_module_version": "1.2.0",
      "_view_name": "LayoutView",
      "align_content": null,
      "align_items": null,
      "align_self": null,
      "border": null,
      "bottom": null,
      "display": null,
      "flex": null,
      "flex_flow": null,
      "grid_area": null,
      "grid_auto_columns": null,
      "grid_auto_flow": null,
      "grid_auto_rows": null,
      "grid_column": null,
      "grid_gap": null,
      "grid_row": null,
      "grid_template_areas": null,
      "grid_template_columns": null,
      "grid_template_rows": null,
      "height": null,
      "justify_content": null,
      "justify_items": null,
      "left": null,
      "margin": null,
      "max_height": null,
      "max_width": null,
      "min_height": null,
      "min_width": null,
      "object_fit": null,
      "object_position": null,
      "order": null,
      "overflow": null,
      "overflow_x": null,
      "overflow_y": null,
      "padding": null,
      "right": null,
      "top": null,
      "visibility": null,
      "width": null
     }
    },
    "c5d3ac1c103440e6863ccefbcfdb9abf": {
     "model_module": "@jupyter-widgets/base",
     "model_module_version": "1.2.0",
     "model_name": "LayoutModel",
     "state": {
      "_model_module": "@jupyter-widgets/base",
      "_model_module_version": "1.2.0",
      "_model_name": "LayoutModel",
      "_view_count": null,
      "_view_module": "@jupyter-widgets/base",
      "_view_module_version": "1.2.0",
      "_view_name": "LayoutView",
      "align_content": null,
      "align_items": null,
      "align_self": null,
      "border": null,
      "bottom": null,
      "display": null,
      "flex": null,
      "flex_flow": null,
      "grid_area": null,
      "grid_auto_columns": null,
      "grid_auto_flow": null,
      "grid_auto_rows": null,
      "grid_column": null,
      "grid_gap": null,
      "grid_row": null,
      "grid_template_areas": null,
      "grid_template_columns": null,
      "grid_template_rows": null,
      "height": null,
      "justify_content": null,
      "justify_items": null,
      "left": null,
      "margin": null,
      "max_height": null,
      "max_width": null,
      "min_height": null,
      "min_width": null,
      "object_fit": null,
      "object_position": null,
      "order": null,
      "overflow": null,
      "overflow_x": null,
      "overflow_y": null,
      "padding": null,
      "right": null,
      "top": null,
      "visibility": null,
      "width": null
     }
    },
    "dd5712146ecf438e99558cf1d1684d6f": {
     "model_module": "@jupyter-widgets/output",
     "model_module_version": "1.0.0",
     "model_name": "OutputModel",
     "state": {
      "_dom_classes": [],
      "_model_module": "@jupyter-widgets/output",
      "_model_module_version": "1.0.0",
      "_model_name": "OutputModel",
      "_view_count": null,
      "_view_module": "@jupyter-widgets/output",
      "_view_module_version": "1.0.0",
      "_view_name": "OutputView",
      "layout": "IPY_MODEL_1c618cf64ea64f2c98569b8c5f91e024",
      "msg_id": "",
      "outputs": []
     }
    }
   }
  }
 },
 "nbformat": 4,
 "nbformat_minor": 1
}
